{
  "nbformat": 4,
  "nbformat_minor": 0,
  "metadata": {
    "colab": {
      "provenance": [],
      "authorship_tag": "ABX9TyMWYGoyZT4D5ydgP0QPH2du",
      "include_colab_link": true
    },
    "kernelspec": {
      "name": "python3",
      "display_name": "Python 3"
    },
    "language_info": {
      "name": "python"
    }
  },
  "cells": [
    {
      "cell_type": "markdown",
      "metadata": {
        "id": "view-in-github",
        "colab_type": "text"
      },
      "source": [
        "<a href=\"https://colab.research.google.com/github/IThanasis/ml/blob/main/fetch_california_housing.ipynb\" target=\"_parent\"><img src=\"https://colab.research.google.com/assets/colab-badge.svg\" alt=\"Open In Colab\"/></a>"
      ]
    },
    {
      "cell_type": "code",
      "execution_count": 49,
      "metadata": {
        "id": "aRYpKYyfo87r"
      },
      "outputs": [],
      "source": [
        "import pandas as pd\n",
        "from sklearn.datasets import fetch_california_housing"
      ]
    },
    {
      "cell_type": "code",
      "source": [
        "# Load the dataset\n",
        "data = fetch_california_housing()\n",
        "\n",
        "# Convert to DataFrame\n",
        "df = pd.DataFrame(data.data, columns=data.feature_names)"
      ],
      "metadata": {
        "id": "D9hfrCi-7aS_"
      },
      "execution_count": 50,
      "outputs": []
    },
    {
      "cell_type": "code",
      "source": [
        "X, y = fetch_california_housing(return_X_y=True)"
      ],
      "metadata": {
        "id": "3cJhokcMq3DP"
      },
      "execution_count": 51,
      "outputs": []
    },
    {
      "cell_type": "code",
      "source": [
        "# The target variable is the median house value for California districts,\n",
        "# expressed in hundreds of thousands of dollars ($100,000)."
      ],
      "metadata": {
        "id": "bs8a5DD1FtBl"
      },
      "execution_count": null,
      "outputs": []
    },
    {
      "cell_type": "code",
      "source": [
        "X"
      ],
      "metadata": {
        "colab": {
          "base_uri": "https://localhost:8080/"
        },
        "id": "Q12Q7Rgiq3AJ",
        "outputId": "91962bff-2a72-4cf1-aa02-75966ff2aede"
      },
      "execution_count": 52,
      "outputs": [
        {
          "output_type": "execute_result",
          "data": {
            "text/plain": [
              "array([[   8.3252    ,   41.        ,    6.98412698, ...,    2.55555556,\n",
              "          37.88      , -122.23      ],\n",
              "       [   8.3014    ,   21.        ,    6.23813708, ...,    2.10984183,\n",
              "          37.86      , -122.22      ],\n",
              "       [   7.2574    ,   52.        ,    8.28813559, ...,    2.80225989,\n",
              "          37.85      , -122.24      ],\n",
              "       ...,\n",
              "       [   1.7       ,   17.        ,    5.20554273, ...,    2.3256351 ,\n",
              "          39.43      , -121.22      ],\n",
              "       [   1.8672    ,   18.        ,    5.32951289, ...,    2.12320917,\n",
              "          39.43      , -121.32      ],\n",
              "       [   2.3886    ,   16.        ,    5.25471698, ...,    2.61698113,\n",
              "          39.37      , -121.24      ]])"
            ]
          },
          "metadata": {},
          "execution_count": 52
        }
      ]
    },
    {
      "cell_type": "code",
      "source": [
        "y"
      ],
      "metadata": {
        "colab": {
          "base_uri": "https://localhost:8080/"
        },
        "id": "8rNefek-q29g",
        "outputId": "d49b8221-a1ec-47fa-9e86-918227214505"
      },
      "execution_count": 53,
      "outputs": [
        {
          "output_type": "execute_result",
          "data": {
            "text/plain": [
              "array([4.526, 3.585, 3.521, ..., 0.923, 0.847, 0.894])"
            ]
          },
          "metadata": {},
          "execution_count": 53
        }
      ]
    },
    {
      "cell_type": "code",
      "source": [
        "X.shape"
      ],
      "metadata": {
        "colab": {
          "base_uri": "https://localhost:8080/"
        },
        "id": "9SJkHgeXq263",
        "outputId": "f625a482-09f9-4a8a-b945-ea7c083819c5"
      },
      "execution_count": 54,
      "outputs": [
        {
          "output_type": "execute_result",
          "data": {
            "text/plain": [
              "(20640, 8)"
            ]
          },
          "metadata": {},
          "execution_count": 54
        }
      ]
    },
    {
      "cell_type": "code",
      "source": [
        "len(y)"
      ],
      "metadata": {
        "colab": {
          "base_uri": "https://localhost:8080/"
        },
        "id": "Lf4KYoLT5Oh2",
        "outputId": "e87565be-6dc9-461b-f70e-33e19644fe6c"
      },
      "execution_count": 55,
      "outputs": [
        {
          "output_type": "execute_result",
          "data": {
            "text/plain": [
              "20640"
            ]
          },
          "metadata": {},
          "execution_count": 55
        }
      ]
    },
    {
      "cell_type": "code",
      "source": [
        "print(df.head())  # Displays the first 5 rows of the dataset"
      ],
      "metadata": {
        "colab": {
          "base_uri": "https://localhost:8080/"
        },
        "id": "UsPJrDOOq2x9",
        "outputId": "925f78e7-556f-47fd-d6ad-58e232bd9c56"
      },
      "execution_count": 56,
      "outputs": [
        {
          "output_type": "stream",
          "name": "stdout",
          "text": [
            "   MedInc  HouseAge  AveRooms  AveBedrms  Population  AveOccup  Latitude  \\\n",
            "0  8.3252      41.0  6.984127   1.023810       322.0  2.555556     37.88   \n",
            "1  8.3014      21.0  6.238137   0.971880      2401.0  2.109842     37.86   \n",
            "2  7.2574      52.0  8.288136   1.073446       496.0  2.802260     37.85   \n",
            "3  5.6431      52.0  5.817352   1.073059       558.0  2.547945     37.85   \n",
            "4  3.8462      52.0  6.281853   1.081081       565.0  2.181467     37.85   \n",
            "\n",
            "   Longitude  \n",
            "0    -122.23  \n",
            "1    -122.22  \n",
            "2    -122.24  \n",
            "3    -122.25  \n",
            "4    -122.25  \n"
          ]
        }
      ]
    },
    {
      "cell_type": "code",
      "source": [
        "# we will use only one feature\n",
        "X = X[:,[2]]"
      ],
      "metadata": {
        "id": "-DGn1nB19Wfr"
      },
      "execution_count": 57,
      "outputs": []
    },
    {
      "cell_type": "code",
      "source": [
        "X"
      ],
      "metadata": {
        "colab": {
          "base_uri": "https://localhost:8080/"
        },
        "id": "-9y024FG9Wc5",
        "outputId": "519c2ab0-84c9-43b8-a1b9-4795ef7b5527"
      },
      "execution_count": 58,
      "outputs": [
        {
          "output_type": "execute_result",
          "data": {
            "text/plain": [
              "array([[6.98412698],\n",
              "       [6.23813708],\n",
              "       [8.28813559],\n",
              "       ...,\n",
              "       [5.20554273],\n",
              "       [5.32951289],\n",
              "       [5.25471698]])"
            ]
          },
          "metadata": {},
          "execution_count": 58
        }
      ]
    },
    {
      "cell_type": "code",
      "source": [
        "X.shape"
      ],
      "metadata": {
        "colab": {
          "base_uri": "https://localhost:8080/"
        },
        "id": "4tfT-mSj9WaR",
        "outputId": "da381054-dd24-4734-95c6-ffaed404c9e1"
      },
      "execution_count": 61,
      "outputs": [
        {
          "output_type": "execute_result",
          "data": {
            "text/plain": [
              "(20640, 1)"
            ]
          },
          "metadata": {},
          "execution_count": 61
        }
      ]
    },
    {
      "cell_type": "code",
      "source": [
        "y.shape"
      ],
      "metadata": {
        "colab": {
          "base_uri": "https://localhost:8080/"
        },
        "id": "DY19grZP9WXh",
        "outputId": "ff4da986-720d-410a-e88f-3b21032550a6"
      },
      "execution_count": 60,
      "outputs": [
        {
          "output_type": "execute_result",
          "data": {
            "text/plain": [
              "(20640,)"
            ]
          },
          "metadata": {},
          "execution_count": 60
        }
      ]
    },
    {
      "cell_type": "code",
      "source": [
        "# training  (import training test split)\n",
        "from sklearn.model_selection import train_test_split"
      ],
      "metadata": {
        "id": "Ijk9FXcD9WUx"
      },
      "execution_count": 62,
      "outputs": []
    },
    {
      "cell_type": "code",
      "source": [
        "X_train, X_test, y_train, y_test = train_test_split(X, y, test_size=0.2, shuffle=True)"
      ],
      "metadata": {
        "id": "YCt8NjGu-Nit"
      },
      "execution_count": 63,
      "outputs": []
    },
    {
      "cell_type": "code",
      "source": [
        "X_train.shape"
      ],
      "metadata": {
        "colab": {
          "base_uri": "https://localhost:8080/"
        },
        "id": "FMe4IDIb-Ozg",
        "outputId": "530020ba-58c6-4133-88e5-5537a65b4731"
      },
      "execution_count": 64,
      "outputs": [
        {
          "output_type": "execute_result",
          "data": {
            "text/plain": [
              "(16512, 1)"
            ]
          },
          "metadata": {},
          "execution_count": 64
        }
      ]
    },
    {
      "cell_type": "code",
      "source": [
        "y_test.shape"
      ],
      "metadata": {
        "colab": {
          "base_uri": "https://localhost:8080/"
        },
        "id": "DysR8h5_-Owy",
        "outputId": "7233543a-2b9e-481d-9873-743c038c6455"
      },
      "execution_count": 65,
      "outputs": [
        {
          "output_type": "execute_result",
          "data": {
            "text/plain": [
              "(4128,)"
            ]
          },
          "metadata": {},
          "execution_count": 65
        }
      ]
    },
    {
      "cell_type": "code",
      "source": [
        "X_test.shape"
      ],
      "metadata": {
        "colab": {
          "base_uri": "https://localhost:8080/"
        },
        "id": "JaPUc1ME-OuS",
        "outputId": "2c4c48f3-4d04-4d8e-aeb3-393db04ee486"
      },
      "execution_count": 66,
      "outputs": [
        {
          "output_type": "execute_result",
          "data": {
            "text/plain": [
              "(4128, 1)"
            ]
          },
          "metadata": {},
          "execution_count": 66
        }
      ]
    },
    {
      "cell_type": "code",
      "source": [
        "# apply linear regression\n",
        "from sklearn.linear_model import LinearRegression\n",
        "regressor = LinearRegression().fit(X_train, y_train)"
      ],
      "metadata": {
        "id": "hDclqXIw-OrN"
      },
      "execution_count": 67,
      "outputs": []
    },
    {
      "cell_type": "code",
      "source": [
        "regressor.coef_"
      ],
      "metadata": {
        "colab": {
          "base_uri": "https://localhost:8080/"
        },
        "id": "C3PEklVx-OoY",
        "outputId": "e9170467-82c5-4a7c-9e46-4c8feb15ed88"
      },
      "execution_count": 69,
      "outputs": [
        {
          "output_type": "execute_result",
          "data": {
            "text/plain": [
              "array([0.06996834])"
            ]
          },
          "metadata": {},
          "execution_count": 69
        }
      ]
    },
    {
      "cell_type": "code",
      "source": [
        "regressor.fit_intercept"
      ],
      "metadata": {
        "colab": {
          "base_uri": "https://localhost:8080/"
        },
        "id": "6fs_fvI1-Olp",
        "outputId": "2c3ad82f-29d3-4808-c4f0-09f93b1012cc"
      },
      "execution_count": 70,
      "outputs": [
        {
          "output_type": "execute_result",
          "data": {
            "text/plain": [
              "True"
            ]
          },
          "metadata": {},
          "execution_count": 70
        }
      ]
    },
    {
      "cell_type": "code",
      "source": [
        "regressor.intercept_"
      ],
      "metadata": {
        "colab": {
          "base_uri": "https://localhost:8080/"
        },
        "id": "aMdVKCHB-Oi_",
        "outputId": "18ab6cf8-af7d-4f6c-f76e-81fe90fe670e"
      },
      "execution_count": 71,
      "outputs": [
        {
          "output_type": "execute_result",
          "data": {
            "text/plain": [
              "1.6882317733516197"
            ]
          },
          "metadata": {},
          "execution_count": 71
        }
      ]
    },
    {
      "cell_type": "code",
      "source": [
        "# write our model\n",
        "# y = 1.688 + 957.0.0699*x"
      ],
      "metadata": {
        "id": "42Bg3KYR-OgF"
      },
      "execution_count": null,
      "outputs": []
    },
    {
      "cell_type": "code",
      "source": [
        "# evaluate our model (metrics: mse, mae, r2)\n",
        "from sklearn.metrics import mean_squared_error, r2_score, mean_absolute_error"
      ],
      "metadata": {
        "id": "5rqm4s_s-OVl"
      },
      "execution_count": 72,
      "outputs": []
    },
    {
      "cell_type": "code",
      "source": [
        "y_pred = regressor.predict(X_test)"
      ],
      "metadata": {
        "id": "I8sojWRB-OIC"
      },
      "execution_count": 73,
      "outputs": []
    },
    {
      "cell_type": "code",
      "source": [
        "# import numpy as np\n",
        "import numpy as np"
      ],
      "metadata": {
        "id": "7aJCC5NlC9iy"
      },
      "execution_count": 75,
      "outputs": []
    },
    {
      "cell_type": "code",
      "source": [
        "print(f'Mean squared error: {mean_squared_error(y_test, y_pred):.2f}')\n",
        "print(f'Coefficient of determination: {r2_score(y_test, y_pred):.2f}')\n",
        "print(f'Mean absolute error: {mean_absolute_error(y_test, y_pred):.2f}')\n",
        "print(f'Root mean squared error: {np.sqrt(mean_squared_error(y_test, y_pred)):.2f}')"
      ],
      "metadata": {
        "colab": {
          "base_uri": "https://localhost:8080/"
        },
        "id": "ckRJstWVC9fc",
        "outputId": "adcbefc9-50d3-41b4-ec5e-acdfab950e9b"
      },
      "execution_count": 76,
      "outputs": [
        {
          "output_type": "stream",
          "name": "stdout",
          "text": [
            "Mean squared error: 1.30\n",
            "Coefficient of determination: 0.02\n",
            "Mean absolute error: 0.90\n",
            "Root mean squared error: 1.14\n"
          ]
        }
      ]
    },
    {
      "cell_type": "code",
      "source": [
        "np.mean(y)"
      ],
      "metadata": {
        "colab": {
          "base_uri": "https://localhost:8080/"
        },
        "id": "97xU8NWAC9cT",
        "outputId": "b2774de8-3f58-4632-ea80-34f9dd8ad69c"
      },
      "execution_count": 77,
      "outputs": [
        {
          "output_type": "execute_result",
          "data": {
            "text/plain": [
              "2.068558169089147"
            ]
          },
          "metadata": {},
          "execution_count": 77
        }
      ]
    },
    {
      "cell_type": "code",
      "source": [
        "# plot results\n",
        "import matplotlib.pyplot as plt"
      ],
      "metadata": {
        "id": "hVHUoOpCC9Yl"
      },
      "execution_count": 78,
      "outputs": []
    },
    {
      "cell_type": "code",
      "source": [
        "fig, ax = plt.subplots(ncols=2, figsize=(12,6),sharex=True,sharey=True)\n",
        "\n",
        "\n",
        "ax[1].scatter(X_train,y_train, s=0.6, label=\"Train data points\")\n",
        "ax[1].plot(\n",
        "\n",
        "X_train, regressor.predict(X_train),\n",
        "linewidth=1.5,\n",
        "color = \"tab:orange\",\n",
        "label = \"Model predictions\"\n",
        "\n",
        ")\n",
        "\n",
        "ax[1].legend()\n",
        "ax[1].set(xlabel=\"Median house value expressed in $100,000\",ylabel=\"average number of rooms per household\",title=\"Train set\")\n",
        "\n",
        "ax[0].scatter(X_test,y_test, s=0.6, label=\"Test data points\")\n",
        "ax[0].plot(\n",
        "\n",
        "X_test, y_pred,\n",
        "linewidth=1.5,\n",
        "color = \"tab:orange\",\n",
        "label = \"Model predictions\"\n",
        "\n",
        ")\n",
        "\n",
        "ax[0].set(xlabel=\"Median house value expressed in $100,000\",ylabel=\"average number of rooms per household\",title=\"Test set\")\n",
        "ax[0].legend()\n",
        "\n",
        "fig.suptitle(\"Linear Regression\")\n",
        "\n",
        "plt.show()"
      ],
      "metadata": {
        "colab": {
          "base_uri": "https://localhost:8080/",
          "height": 602
        },
        "id": "uvZ6Y2lGDvKj",
        "outputId": "4031befd-0414-415d-f483-dc3852dcecbc"
      },
      "execution_count": 97,
      "outputs": [
        {
          "output_type": "display_data",
          "data": {
            "text/plain": [
              "<Figure size 1200x600 with 2 Axes>"
            ],
            "image/png": "[encoded data removed]"
          },
          "metadata": {}
        }
      ]
    },
    {
      "cell_type": "code",
      "source": [],
      "metadata": {
        "id": "18e_6fURDvHt"
      },
      "execution_count": null,
      "outputs": []
    },
    {
      "cell_type": "code",
      "source": [],
      "metadata": {
        "id": "G8lDa_BuDvES"
      },
      "execution_count": null,
      "outputs": []
    },
    {
      "cell_type": "code",
      "source": [],
      "metadata": {
        "id": "8u65g2XhDvBb"
      },
      "execution_count": null,
      "outputs": []
    },
    {
      "cell_type": "code",
      "source": [],
      "metadata": {
        "id": "p8EXYNe8Du-V"
      },
      "execution_count": null,
      "outputs": []
    },
    {
      "cell_type": "code",
      "source": [],
      "metadata": {
        "id": "m-8MpFZSDu7N"
      },
      "execution_count": null,
      "outputs": []
    },
    {
      "cell_type": "code",
      "source": [],
      "metadata": {
        "id": "cscw4NO0Du3u"
      },
      "execution_count": null,
      "outputs": []
    },
    {
      "cell_type": "code",
      "source": [],
      "metadata": {
        "id": "yV-W5CZ4DuxP"
      },
      "execution_count": null,
      "outputs": []
    },
    {
      "cell_type": "code",
      "source": [],
      "metadata": {
        "id": "liEcoQF0Dupb"
      },
      "execution_count": null,
      "outputs": []
    }
  ]
}