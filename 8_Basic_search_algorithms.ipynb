{
  "nbformat": 4,
  "nbformat_minor": 0,
  "metadata": {
    "colab": {
      "provenance": [],
      "authorship_tag": "ABX9TyPAINmOxEjGgdi2cuUoyPwq",
      "include_colab_link": true
    },
    "kernelspec": {
      "name": "python3",
      "display_name": "Python 3"
    },
    "language_info": {
      "name": "python"
    }
  },
  "cells": [
    {
      "cell_type": "markdown",
      "metadata": {
        "id": "view-in-github",
        "colab_type": "text"
      },
      "source": [
        "<a href=\"https://colab.research.google.com/github/IThanasis/ml/blob/main/8_Basic_search_algorithms.ipynb\" target=\"_parent\"><img src=\"https://colab.research.google.com/assets/colab-badge.svg\" alt=\"Open In Colab\"/></a>"
      ]
    },
    {
      "cell_type": "code",
      "source": [
        "# 3+5 Basic search algorithms\n",
        "# linear_search\n",
        "# binary_search\n",
        "# interpolation_search\n",
        "\n",
        "# recursive_binary_search\n",
        "# jump_search\n",
        "# exponential_search\n",
        "# fibonacci_search\n",
        "# ternary_search\n",
        "\n",
        "# ---- the below code is xopied pasted from chatgpt ------"
      ],
      "metadata": {
        "id": "V30w0AUdzVHd"
      },
      "execution_count": 1,
      "outputs": []
    },
    {
      "cell_type": "code",
      "source": [
        "# linear_search\n",
        "\n",
        "def linear_search(arr, target):\n",
        "    for i in range(len(arr)):\n",
        "        if arr[i] == target:\n",
        "            return i  # Found, return index\n",
        "    return -1  # Not found\n",
        "\n",
        "# Example\n",
        "arr = [10, 23, 45, 70, 11, 15]\n",
        "print(linear_search(arr, 70))"
      ],
      "metadata": {
        "id": "Xlisa1OWFG6-"
      },
      "execution_count": null,
      "outputs": []
    },
    {
      "cell_type": "code",
      "source": [
        "#binary_search\n",
        "def binary_search(arr, target, low,high):\n",
        "  if low<=high:\n",
        "    mid = (low+high) // 2\n",
        "    if arr[mid] < target:\n",
        "      return mid\n",
        "    elif arr[mid]<target:\n",
        "      return binary_search(arr, target, mid+1, high)\n",
        "    else:\n",
        "      return binary_search(arr, target, low, mid-1)\n",
        "  else:\n",
        "      return -1\n",
        "\n",
        "\n",
        "arr = [x for x in range(10)]\n",
        "target = 6\n",
        "\n",
        "result = binary_search(sorted(arr), target, 0, len(arr)-1)\n",
        "\n",
        "if result!= -1:\n",
        "  print(f'index {result}')\n",
        "else:\n",
        "  print(\"binary search - element not found\")"
      ],
      "metadata": {
        "colab": {
          "base_uri": "https://localhost:8080/"
        },
        "id": "jUwr8Ba6E7Zq",
        "outputId": "cc624ec6-7823-464d-99c6-3243980ae66a"
      },
      "execution_count": 14,
      "outputs": [
        {
          "output_type": "stream",
          "name": "stdout",
          "text": [
            "index 4\n"
          ]
        }
      ]
    },
    {
      "cell_type": "code",
      "source": [
        "# interpolation_search\n",
        "import math\n",
        "\n",
        "def interpolation_search(arr,target):\n",
        "  low = 0\n",
        "  high = len(arr) - 1\n",
        "\n",
        "  while low<=high and target >= arr[low] and target <= arr[high]:\n",
        "    pos = low + ((high-low) // (arr[high] - arr[low])) * (target - arr[low])\n",
        "\n",
        "    if arr[pos] == target:\n",
        "      return pos\n",
        "    elif arr[pos] < target:\n",
        "      low = pos + 1\n",
        "    else:\n",
        "      high = pos -1\n",
        "  return -1\n",
        "\n",
        "arr = [10, 1, 24, 23, 101, 223, 423, 52, 3, 5, 3]\n",
        "target = 10\n",
        "result = interpolation_search(sorted(arr),target)\n",
        "\n",
        "if result != -1:\n",
        "  print(f'at index {result}')\n",
        "else:\n",
        "  print(f'not found')"
      ],
      "metadata": {
        "colab": {
          "base_uri": "https://localhost:8080/"
        },
        "id": "R9qi2okQE9qq",
        "outputId": "ace339b1-3a58-4aa4-fe82-50fa8af98491"
      },
      "execution_count": 13,
      "outputs": [
        {
          "output_type": "stream",
          "name": "stdout",
          "text": [
            "at index 4\n"
          ]
        }
      ]
    },
    {
      "cell_type": "code",
      "source": [
        "# recursive_binary_search\n",
        "# Comments: Same as binary search but implemented recursively\n",
        "\n",
        "def recursive_binary_search(arr, low, high, target):\n",
        "    if low > high:\n",
        "        return -1\n",
        "    mid = (low + high) // 2\n",
        "    if arr[mid] == target:\n",
        "        return mid\n",
        "    elif arr[mid] < target:\n",
        "        return recursive_binary_search(arr, mid + 1, high, target)\n",
        "    else:\n",
        "        return recursive_binary_search(arr, low, mid - 1, target)\n",
        "\n",
        "# Example\n",
        "arr = [10, 20, 45, 70, 80, 99]\n",
        "print(recursive_binary_search(arr, 0, len(arr)-1, 45))"
      ],
      "metadata": {
        "id": "PLKRbGPizVJe",
        "colab": {
          "base_uri": "https://localhost:8080/"
        },
        "outputId": "41da3690-162b-4f0f-ab38-7eef93d8fe1a"
      },
      "execution_count": 3,
      "outputs": [
        {
          "output_type": "stream",
          "name": "stdout",
          "text": [
            "2\n"
          ]
        }
      ]
    },
    {
      "cell_type": "code",
      "source": [
        "# jump_search\n",
        "# Comments: Faster than Linear, Slower than Binary\n",
        "\n",
        "import math\n",
        "\n",
        "def jump_search(arr, target):\n",
        "    n = len(arr)\n",
        "    step = int(math.sqrt(n))\n",
        "    prev = 0\n",
        "\n",
        "    while prev < n and arr[min(step, n) - 1] < target:\n",
        "        prev = step\n",
        "        step += int(math.sqrt(n))\n",
        "        if prev >= n:\n",
        "            return -1\n",
        "\n",
        "    for i in range(prev, min(step, n)):\n",
        "        if arr[i] == target:\n",
        "            return i\n",
        "    return -1\n",
        "\n",
        "# Example\n",
        "arr = [10, 30,  45, 70, 80, 99]\n",
        "print(jump_search(arr, 99))"
      ],
      "metadata": {
        "id": "XN-OAArmzVLW",
        "colab": {
          "base_uri": "https://localhost:8080/"
        },
        "outputId": "33a548ca-100d-47e9-f9df-cbceddf36f14"
      },
      "execution_count": 4,
      "outputs": [
        {
          "output_type": "stream",
          "name": "stdout",
          "text": [
            "5\n"
          ]
        }
      ]
    },
    {
      "cell_type": "code",
      "source": [
        "# exponential_search\n",
        "# Good for Unbounded Arrays\n",
        "# Starts with small jumps and increases exponentially\n",
        "\n",
        "def binary_search(arr, left, right, target):\n",
        "    while left <= right:\n",
        "        mid = left + (right - left) // 2\n",
        "        if arr[mid] == target:\n",
        "            return mid\n",
        "        elif arr[mid] < target:\n",
        "            left = mid + 1\n",
        "        else:\n",
        "            right = mid - 1\n",
        "    return -1\n",
        "\n",
        "def exponential_search(arr, target):\n",
        "    if arr[0] == target:\n",
        "        return 0\n",
        "\n",
        "    n = len(arr)\n",
        "    i = 1\n",
        "    while i < n and arr[i] <= target:\n",
        "        i *= 2\n",
        "\n",
        "    return binary_search(arr, i // 2, min(i, n - 1), target)\n",
        "\n",
        "# Example usage:\n",
        "arr = [1, 2, 3, 4, 5, 10, 15, 20, 40, 50]\n",
        "target = 10\n",
        "result = exponential_search(arr, target)\n",
        "\n",
        "if result != -1:\n",
        "    print(f\"Element found at index {result}\")\n",
        "else:\n",
        "    print(\"Element not found\")\n"
      ],
      "metadata": {
        "colab": {
          "base_uri": "https://localhost:8080/"
        },
        "id": "EMRqYtW1AKa0",
        "outputId": "ff22abf9-cd4e-4c0b-bd05-d0cccbdaf7d0"
      },
      "execution_count": 10,
      "outputs": [
        {
          "output_type": "stream",
          "name": "stdout",
          "text": [
            "Element found at index 5\n"
          ]
        }
      ]
    },
    {
      "cell_type": "code",
      "source": [
        "# fibonacci_search\n",
        "# Comments: Works Similar to Binary Search\n",
        "\n",
        "def fibonacci_search(arr, target):\n",
        "    fib2, fib1 = 0, 1\n",
        "    fibM = fib2 + fib1\n",
        "    n = len(arr)\n",
        "\n",
        "    while fibM < n:\n",
        "        fib2, fib1 = fib1, fibM\n",
        "        fibM = fib2 + fib1\n",
        "\n",
        "    offset = -1\n",
        "    while fibM > 1:\n",
        "        i = min(offset + fib2, n - 1)\n",
        "        if arr[i] < target:\n",
        "            fibM, fib1, fib2 = fib1, fib2, fib1 - fib2\n",
        "            offset = i\n",
        "        elif arr[i] > target:\n",
        "            fibM, fib1, fib2 = fib2, fib1 - fib2, fib2 - fib1\n",
        "        else:\n",
        "            return i\n",
        "    if fib1 and offset + 1 < n and arr[offset + 1] == target:\n",
        "        return offset + 1\n",
        "    return -1\n",
        "\n",
        "# Example\n",
        "arr = [10, 23, 45, 70, 80, 99]\n",
        "print(fibonacci_search(arr, 80))"
      ],
      "metadata": {
        "colab": {
          "base_uri": "https://localhost:8080/"
        },
        "id": "bDXwETyUAbqd",
        "outputId": "8c3f8e17-1bbc-4613-a4ea-83e61f64c772"
      },
      "execution_count": 11,
      "outputs": [
        {
          "output_type": "stream",
          "name": "stdout",
          "text": [
            "4\n"
          ]
        }
      ]
    },
    {
      "cell_type": "code",
      "source": [
        "# ternary_search\n",
        "# Similar to binary search but splits into 3 parts the array\n",
        "\n",
        "def ternary_search(arr, low, high, target):\n",
        "    if low > high:\n",
        "        return -1\n",
        "\n",
        "    mid1 = low + (high - low) // 3\n",
        "    mid2 = high - (high - low) // 3\n",
        "\n",
        "    if arr[mid1] == target:\n",
        "        return mid1\n",
        "    if arr[mid2] == target:\n",
        "        return mid2\n",
        "\n",
        "    if target < arr[mid1]:\n",
        "        return ternary_search(arr, low, mid1 - 1, target)\n",
        "    elif target > arr[mid2]:\n",
        "        return ternary_search(arr, mid2 + 1, high, target)\n",
        "    else:\n",
        "        return ternary_search(arr, mid1 + 1, mid2 - 1, target)\n",
        "\n",
        "# Example\n",
        "arr = [10, 23, 45, 70, 80, 99]\n",
        "print(ternary_search(arr, 0, len(arr)-1, 45))"
      ],
      "metadata": {
        "colab": {
          "base_uri": "https://localhost:8080/"
        },
        "id": "IaUrB6-zBDoj",
        "outputId": "68dfe589-987f-4fb5-a288-2c6a6a9defd7"
      },
      "execution_count": 12,
      "outputs": [
        {
          "output_type": "stream",
          "name": "stdout",
          "text": [
            "2\n"
          ]
        }
      ]
    },
    {
      "cell_type": "code",
      "source": [],
      "metadata": {
        "id": "xxVCabseBWA2"
      },
      "execution_count": null,
      "outputs": []
    }
  ]
}